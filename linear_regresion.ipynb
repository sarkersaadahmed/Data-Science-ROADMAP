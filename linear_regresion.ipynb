import numpy as np
import matplotlib.pyplot as plt
import tensorflow as tf
import sklearn
from sklearn.datasets import make_regression
from sklearn.utils import shuffle
from sklearn.model_selection import train_test_split
from sklearn.linear_model import LinearRegression
from matplotlib import style
import pandas as pd
import pickle

#we downloaded the file and allowed the pc to read the file that is downloaded [used sep method to separate our datas using a given punctuation not so importnat]
df = pd.read_csv('data.csv', sep=";") 
#we segregated the headers into column names to ensure a specific column identifies those rows
#these are also used to really replace the original column names with the column names
#the user has implied
df = df[["Column1", "Column2", "Column3", "Column4", "Column5"]]
#we want to predict whatever the datas or rows that is assigned as column3 
predict = 'Column3'
#we dont want to include the predicted data since 
#1) we dont want the machine to know what the datas are representing which in this case
#can easily guess the next value just by looking at the predicted datas and
#2) we want the training and test datas specificically for this predicted column
X = df.drop(predict, axis=1)
y = df[predict]
best = 0
for element in range(30):

  X_train, X_test, y_train, y_test = train_test_split(X, y, test_size=0.33, random_state=42)
  #this is where we will draw the graph use the linear equation
  linear = LinearRegression() #drawn the graph JUST DRAWN THE GRAPH THERE IS NO INPUT
  linear.fit(X_train, y_train) #these are my input values
  #these are my trained datas, the datas i already know off. The linear graph will be drawn 
  #and the known points [the datas i know already] will be plotted not the 
  #ones I am supposed to know of
  acc = linear.score(x_test, y_test)
  #on the linear fit, my linear graph alongside my known trained values are plotted all good
  #on the acc [stands for accuracy] I will compare the datas from the train data 
  #and test data and find the accuracy [using linear.score] between train and test
  if acc > best:
    best = acc
    with open('filename.pickle', 'wb') as f:
      pickle.dump(linear, f)

print(acc) 
#simply print the accuracy 

with open(filename.picke, 'wb') as f:
  pickle.dump(linear, f)
#we created a writable binary file, 
#convert WHATEVER THE TEXT WE ARE GOING TO IMPORT AND 
#convert into the bite stream and save that bitestream file into our file f
#DUMP IS USED TO SAVE THE FILE
pickle_in = open("filename.pickle", 'rb')
linear = pickle.load(pickle_in)
#so rather tha manually writing out the X_train and Y_train
#we simply create file using the name and wb
#convert the file into a binary file
#dump [as in store] the file
#open the file as a readable binary file
#use a linear module to call the data stored in the file

print(linear.coef_)
#print the gradient for each dimension [as in each column]
print(linear.intercept_) 
#print the y intercept [the part b in y = mx + b]
predictions - linear.predict(x_test)
#assinging a predicted axis
for x in range(len(predcitions)):
  #iterating through every data values from the column x_test
    print(predictions[x], y_test[x]) #we get the predicted values
