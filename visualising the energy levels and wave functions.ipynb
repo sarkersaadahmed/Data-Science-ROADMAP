{
  "metadata": {
    "kernelspec": {
      "name": "python",
      "display_name": "Python (Pyodide)",
      "language": "python"
    },
    "language_info": {
      "codemirror_mode": {
        "name": "python",
        "version": 3
      },
      "file_extension": ".py",
      "mimetype": "text/x-python",
      "name": "python",
      "nbconvert_exporter": "python",
      "pygments_lexer": "ipython3",
      "version": "3.8"
    }
  },
  "nbformat_minor": 4,
  "nbformat": 4,
  "cells": [
    {
      "cell_type": "code",
      "source": "import matplotlib.pyplot as plt\nimport numpy as np\nimport sympy as sp\n\n# Constants\nh = 6.626e-34\nm = 9.11e-31\nL = 1\n\n# Symbolic variables\nx = sp.Symbol('x')\nn = sp.Symbol('n')\n\n# Define psi function symbolically\ndef psi(n, L, x):\n    return sp.sqrt(2 / L) * sp.sin(n * sp.pi * x / L)\n\n# Define psi squared function symbolically\ndef psi_squared(n, L, x):\n    return psi(n, L, x)**2\n\n# Values for x\nx_list = np.linspace(0, 1, 100)\n\n# Plotting\nplt.figure(figsize=(15, 10))\nplt.suptitle(\"Wave Functions\", fontsize=18)\n\nfor n_val in range(1, 4):\n    # Substituting numerical values into symbolic expressions\n    psi_values = [psi.subs({n: n_val, L: 1}) for x_val in x_list]\n    psi_squared_values = [psi_squared.subs({n: n_val, L: 1}) for x_val in x_list]\n\n    plt.subplot(3, 2, 2*n_val - 1)\n    plt.plot(x_list, psi_values)\n    plt.xlabel(\"L\", fontsize=13)\n    plt.ylabel(\"Ψ\", fontsize=13)\n    plt.xticks(np.arange(0, 1, step=0.5))\n    plt.title(\"n=\"+str(n_val), fontsize=16)\n    plt.grid()\n\n    plt.subplot(3, 2, 2*n_val)\n    plt.plot(x_list, psi_squared_values)\n    plt.xlabel(\"L\", fontsize=13)\n    plt.ylabel(\"Ψ*Ψ\", fontsize=13)\n    plt.xticks(np.arange(0, 1, step=0.5))\n    plt.title(\"n=\"+str(n_val), fontsize=16)\n    plt.grid()\n\nplt.tight_layout(rect=[0, 0.03, 1, 0.95])\nplt.show()\n\n\n",
      "metadata": {
        "trusted": true
      },
      "outputs": [
        {
          "output_type": "display_data",
          "data": {
            "text/plain": "<Figure size 1500x1000 with 0 Axes>"
          },
          "metadata": {}
        },
        {
          "ename": "<class 'AttributeError'>",
          "evalue": "'function' object has no attribute 'subs'",
          "traceback": [
            "\u001b[0;31m---------------------------------------------------------------------------\u001b[0m",
            "\u001b[0;31mAttributeError\u001b[0m                            Traceback (most recent call last)",
            "Cell \u001b[0;32mIn[5], line 31\u001b[0m\n\u001b[1;32m     27\u001b[0m plt\u001b[38;5;241m.\u001b[39msuptitle(\u001b[38;5;124m\"\u001b[39m\u001b[38;5;124mWave Functions\u001b[39m\u001b[38;5;124m\"\u001b[39m, fontsize\u001b[38;5;241m=\u001b[39m\u001b[38;5;241m18\u001b[39m)\n\u001b[1;32m     29\u001b[0m \u001b[38;5;28;01mfor\u001b[39;00m n_val \u001b[38;5;129;01min\u001b[39;00m \u001b[38;5;28mrange\u001b[39m(\u001b[38;5;241m1\u001b[39m, \u001b[38;5;241m4\u001b[39m):\n\u001b[1;32m     30\u001b[0m     \u001b[38;5;66;03m# Substituting numerical values into symbolic expressions\u001b[39;00m\n\u001b[0;32m---> 31\u001b[0m     psi_values \u001b[38;5;241m=\u001b[39m \u001b[43m[\u001b[49m\u001b[43mpsi\u001b[49m\u001b[38;5;241;43m.\u001b[39;49m\u001b[43msubs\u001b[49m\u001b[43m(\u001b[49m\u001b[43m{\u001b[49m\u001b[43mn\u001b[49m\u001b[43m:\u001b[49m\u001b[43m \u001b[49m\u001b[43mn_val\u001b[49m\u001b[43m,\u001b[49m\u001b[43m \u001b[49m\u001b[43mL\u001b[49m\u001b[43m:\u001b[49m\u001b[43m \u001b[49m\u001b[38;5;241;43m1\u001b[39;49m\u001b[43m}\u001b[49m\u001b[43m)\u001b[49m\u001b[43m \u001b[49m\u001b[38;5;28;43;01mfor\u001b[39;49;00m\u001b[43m \u001b[49m\u001b[43mx_val\u001b[49m\u001b[43m \u001b[49m\u001b[38;5;129;43;01min\u001b[39;49;00m\u001b[43m \u001b[49m\u001b[43mx_list\u001b[49m\u001b[43m]\u001b[49m\n\u001b[1;32m     32\u001b[0m     psi_squared_values \u001b[38;5;241m=\u001b[39m [psi_squared\u001b[38;5;241m.\u001b[39msubs({n: n_val, L: \u001b[38;5;241m1\u001b[39m}) \u001b[38;5;28;01mfor\u001b[39;00m x_val \u001b[38;5;129;01min\u001b[39;00m x_list]\n\u001b[1;32m     34\u001b[0m     plt\u001b[38;5;241m.\u001b[39msubplot(\u001b[38;5;241m3\u001b[39m, \u001b[38;5;241m2\u001b[39m, \u001b[38;5;241m2\u001b[39m\u001b[38;5;241m*\u001b[39mn_val \u001b[38;5;241m-\u001b[39m \u001b[38;5;241m1\u001b[39m)\n",
            "Cell \u001b[0;32mIn[5], line 31\u001b[0m, in \u001b[0;36m<listcomp>\u001b[0;34m(.0)\u001b[0m\n\u001b[1;32m     27\u001b[0m plt\u001b[38;5;241m.\u001b[39msuptitle(\u001b[38;5;124m\"\u001b[39m\u001b[38;5;124mWave Functions\u001b[39m\u001b[38;5;124m\"\u001b[39m, fontsize\u001b[38;5;241m=\u001b[39m\u001b[38;5;241m18\u001b[39m)\n\u001b[1;32m     29\u001b[0m \u001b[38;5;28;01mfor\u001b[39;00m n_val \u001b[38;5;129;01min\u001b[39;00m \u001b[38;5;28mrange\u001b[39m(\u001b[38;5;241m1\u001b[39m, \u001b[38;5;241m4\u001b[39m):\n\u001b[1;32m     30\u001b[0m     \u001b[38;5;66;03m# Substituting numerical values into symbolic expressions\u001b[39;00m\n\u001b[0;32m---> 31\u001b[0m     psi_values \u001b[38;5;241m=\u001b[39m [\u001b[43mpsi\u001b[49m\u001b[38;5;241;43m.\u001b[39;49m\u001b[43msubs\u001b[49m({n: n_val, L: \u001b[38;5;241m1\u001b[39m}) \u001b[38;5;28;01mfor\u001b[39;00m x_val \u001b[38;5;129;01min\u001b[39;00m x_list]\n\u001b[1;32m     32\u001b[0m     psi_squared_values \u001b[38;5;241m=\u001b[39m [psi_squared\u001b[38;5;241m.\u001b[39msubs({n: n_val, L: \u001b[38;5;241m1\u001b[39m}) \u001b[38;5;28;01mfor\u001b[39;00m x_val \u001b[38;5;129;01min\u001b[39;00m x_list]\n\u001b[1;32m     34\u001b[0m     plt\u001b[38;5;241m.\u001b[39msubplot(\u001b[38;5;241m3\u001b[39m, \u001b[38;5;241m2\u001b[39m, \u001b[38;5;241m2\u001b[39m\u001b[38;5;241m*\u001b[39mn_val \u001b[38;5;241m-\u001b[39m \u001b[38;5;241m1\u001b[39m)\n",
            "\u001b[0;31mAttributeError\u001b[0m: 'function' object has no attribute 'subs'"
          ],
          "output_type": "error"
        }
      ],
      "execution_count": 5
    },
    {
      "cell_type": "code",
      "source": "",
      "metadata": {
        "trusted": true
      },
      "outputs": [],
      "execution_count": null
    }
  ]
}